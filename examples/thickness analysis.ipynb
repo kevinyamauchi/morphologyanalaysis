{
 "cells": [
  {
   "cell_type": "code",
   "execution_count": 1,
   "metadata": {},
   "outputs": [],
   "source": [
    "%gui qt"
   ]
  },
  {
   "cell_type": "markdown",
   "metadata": {},
   "source": [
    "This notebook is an example of how to analyze the thickness of a layer of tissue."
   ]
  },
  {
   "cell_type": "markdown",
   "metadata": {},
   "source": [
    "## Generate mock data\n",
    "First, we generate a set of mock data simulating a slab of tissue with three layers."
   ]
  },
  {
   "cell_type": "code",
   "execution_count": 2,
   "metadata": {},
   "outputs": [
    {
     "data": {
      "image/png": "[encoded data removed]",
      "text/plain": [
       "<Figure size 432x288 with 1 Axes>"
      ]
     },
     "metadata": {
      "needs_background": "light"
     },
     "output_type": "display_data"
    }
   ],
   "source": [
    "import numpy as np\n",
    "from matplotlib import pyplot as plt\n",
    "from skimage import draw\n",
    "from skimage.color import label2rgb\n",
    "\n",
    "# image size\n",
    "im_width = 100\n",
    "im_height = 100\n",
    "\n",
    "# create the empty image\n",
    "mock_image_profile = np.zeros((im_height, im_width), dtype=np.uint)\n",
    "\n",
    "# add layer 1\n",
    "rr_1, cc_1 = draw.rectangle((80, 0), extent=(20, im_width), shape=mock_image_profile.shape)\n",
    "mock_image_profile[rr_1, cc_1] = 1\n",
    "\n",
    "# add layer 2\n",
    "rr_2, cc_2 = draw.rectangle((70, 0), extent=(10, im_width), shape=mock_image_profile.shape)\n",
    "mock_image_profile[rr_2, cc_2] = 2\n",
    "\n",
    "# add layer 3\n",
    "r_3 = np.array([70, 60, 50, 70])\n",
    "c_3 = np.array([0, 0, 99, 99])\n",
    "rr_3, cc_3 = draw.polygon(r_3, c_3)\n",
    "mock_image_profile[rr_3, cc_3] = 3\n",
    "\n",
    "\n",
    "plt.imshow(label2rgb(mock_image_profile, bg_label=0));"
   ]
  },
  {
   "cell_type": "code",
   "execution_count": 3,
   "metadata": {},
   "outputs": [],
   "source": [
    "import napari\n",
    "mock_image = np.tile(mock_image_profile, (100, 1, 1))\n",
    "\n",
    "colors = {\n",
    "    0: [0, 0, 0, 0],\n",
    "    1: [0.5, 0.79, 0.5, 1],\n",
    "    2: [0.75, 0.68, 0.83, 1],\n",
    "    3: [0.99, 0.75, 0.52, 1]\n",
    "}\n",
    "viewer = napari.view_labels(mock_image, color=colors, opacity=0.4)"
   ]
  },
  {
   "cell_type": "code",
   "execution_count": 4,
   "metadata": {},
   "outputs": [],
   "source": [
    "grad_im = np.gradient(mock_image, axis=None)\n",
    "edge_im = np.sqrt(grad_im[0]**2 + grad_im[1]**2 + grad_im[2]**2)"
   ]
  },
  {
   "cell_type": "code",
   "execution_count": 5,
   "metadata": {},
   "outputs": [],
   "source": [
    "edge_labels = mock_image.copy()\n",
    "edge_labels[edge_im == 0] = 0\n",
    "\n",
    "viewer.add_labels(edge_labels, color=colors);"
   ]
  },
  {
   "cell_type": "code",
   "execution_count": 6,
   "metadata": {},
   "outputs": [],
   "source": [
    "from skimage.segmentation import find_boundaries\n",
    "# find an interface\n",
    "\n",
    "def find_interface(label_im, interface_label, neighbor_label, background_label=0):\n",
    "    \n",
    "    interface_im = np.zeros_like(label_im)\n",
    "    \n",
    "    # make image of just the labels of interest\n",
    "    interface_im[label_im == interface_label] = interface_label\n",
    "    interface_im[label_im == neighbor_label] = neighbor_label\n",
    "    \n",
    "    # find boundaries\n",
    "    boundary_im = find_boundaries(interface_im, mode='inner', background=background_label)\n",
    "    \n",
    "    \n",
    "    # mask out the neighbor label\n",
    "    boundary_im[interface_im == neighbor_label] = background_label\n",
    "    \n",
    "    \n",
    "    return interface_im\n"
   ]
  },
  {
   "cell_type": "code",
   "execution_count": 7,
   "metadata": {},
   "outputs": [
    {
     "data": {
      "text/plain": [
       "<Labels layer 'interface_im' at 0x7f1d5a78e790>"
      ]
     },
     "execution_count": 7,
     "metadata": {},
     "output_type": "execute_result"
    }
   ],
   "source": [
    "interface_mask = find_interface(edge_labels, 3, 2)\n",
    "interface_im = edge_labels * interface_mask\n",
    "viewer.add_labels(interface_im)"
   ]
  },
  {
   "cell_type": "code",
   "execution_count": 9,
   "metadata": {},
   "outputs": [
    {
     "data": {
      "text/plain": [
       "<Labels layer 'interface_mask' at 0x7f1daca0a710>"
      ]
     },
     "execution_count": 9,
     "metadata": {},
     "output_type": "execute_result"
    }
   ],
   "source": [
    "viewer.add_labels(interface_mask)"
   ]
  },
  {
   "cell_type": "code",
   "execution_count": null,
   "metadata": {},
   "outputs": [],
   "source": []
  }
 ],
 "metadata": {
  "kernelspec": {
   "display_name": "Python 3",
   "language": "python",
   "name": "python3"
  },
  "language_info": {
   "codemirror_mode": {
    "name": "ipython",
    "version": 3
   },
   "file_extension": ".py",
   "mimetype": "text/x-python",
   "name": "python",
   "nbconvert_exporter": "python",
   "pygments_lexer": "ipython3",
   "version": "3.7.9"
  }
 },
 "nbformat": 4,
 "nbformat_minor": 4
}
