{
 "cells": [
  {
   "cell_type": "code",
   "execution_count": 1,
   "metadata": {},
   "outputs": [],
   "source": [
    "%gui qt"
   ]
  },
  {
   "cell_type": "markdown",
   "metadata": {},
   "source": [
    "This notebook is an example of how to analyze the thickness of a layer of tissue."
   ]
  },
  {
   "cell_type": "markdown",
   "metadata": {},
   "source": [
    "## Generate mock data\n",
    "First, we generate a set of mock data simulating a slab of tissue with three layers."
   ]
  },
  {
   "cell_type": "code",
   "execution_count": 2,
   "metadata": {},
   "outputs": [
    {
     "data": {
      "image/png": "[encoded data removed]",
      "text/plain": [
       "<Figure size 432x288 with 1 Axes>"
      ]
     },
     "metadata": {
      "needs_background": "light"
     },
     "output_type": "display_data"
    }
   ],
   "source": [
    "import numpy as np\n",
    "from matplotlib import pyplot as plt\n",
    "from skimage import draw\n",
    "from skimage.color import label2rgb\n",
    "\n",
    "# image size\n",
    "im_width = 100\n",
    "im_height = 100\n",
    "\n",
    "# create the empty image\n",
    "mock_image_profile = 4 * np.ones((im_height, im_width), dtype=np.uint)\n",
    "\n",
    "# add layer 1\n",
    "rr_1, cc_1 = draw.rectangle((80, 0), extent=(20, im_width), shape=mock_image_profile.shape)\n",
    "mock_image_profile[rr_1, cc_1] = 1\n",
    "\n",
    "# add layer 2\n",
    "rr_2, cc_2 = draw.rectangle((70, 0), extent=(10, im_width), shape=mock_image_profile.shape)\n",
    "mock_image_profile[rr_2, cc_2] = 2\n",
    "\n",
    "# add layer 3\n",
    "r_3 = np.array([70, 60, 50, 70])\n",
    "c_3 = np.array([0, 0, 99, 99])\n",
    "rr_3, cc_3 = draw.polygon(r_3, c_3)\n",
    "mock_image_profile[rr_3, cc_3] = 3\n",
    "\n",
    "\n",
    "plt.imshow(label2rgb(mock_image_profile, bg_label=0));"
   ]
  },
  {
   "cell_type": "code",
   "execution_count": 3,
   "metadata": {},
   "outputs": [],
   "source": [
    "import napari\n",
    "mock_image = np.tile(mock_image_profile, (100, 1, 1))\n",
    "\n",
    "colors = {\n",
    "    0: [0, 0, 0, 0],\n",
    "    1: [0.5, 0.79, 0.5, 1],\n",
    "    2: [0.75, 0.68, 0.83, 1],\n",
    "    3: [0.99, 0.75, 0.52, 1],\n",
    "    4: [0, 0, 0, 1]\n",
    "}\n",
    "viewer = napari.view_labels(mock_image, color=colors, opacity=0.4)"
   ]
  },
  {
   "cell_type": "code",
   "execution_count": 5,
   "metadata": {},
   "outputs": [],
   "source": [
    "from morphologyanalysis.volume.label import label_boundaries\n",
    "edge_labels = label_boundaries(mock_image)\n",
    "\n",
    "# add the edge label image to the napari viewer\n",
    "viewer.add_labels(edge_labels, color=colors);"
   ]
  },
  {
   "cell_type": "markdown",
   "metadata": {},
   "source": []
  },
  {
   "cell_type": "code",
   "execution_count": 27,
   "metadata": {},
   "outputs": [],
   "source": [
    "from morphologyanalysis.surface.mesh import mesh_from_interface\n",
    "\n",
    "surf_bot = mesh_from_interface(label_im=edge_labels, parent_label=3, neighbor_label=2)\n",
    "surf_top = mesh_from_interface(label_im=edge_labels, parent_label=3, neighbor_label=4)"
   ]
  },
  {
   "cell_type": "code",
   "execution_count": 28,
   "metadata": {},
   "outputs": [
    {
     "data": {
      "application/vnd.jupyter.widget-view+json": {
       "model_id": "699be1540be64121bef541d074477031",
       "version_major": 2,
       "version_minor": 0
      },
      "text/plain": [
       "Viewer(geometries=[{'vtkClass': 'vtkPolyData', 'points': {'vtkClass': 'vtkPoints', 'name': '_points', 'numberO…"
      ]
     },
     "metadata": {},
     "output_type": "display_data"
    }
   ],
   "source": [
    "import pyvista as pv\n",
    "\n",
    "p1 = pv.PlotterITK()\n",
    "p1.add_mesh(surf_top, smooth_shading=True)\n",
    "p1.add_mesh(surf_bot, smooth_shading=True)\n",
    "p1.show();"
   ]
  },
  {
   "cell_type": "code",
   "execution_count": 15,
   "metadata": {},
   "outputs": [
    {
     "data": {
      "text/plain": [
       "14.51"
      ]
     },
     "execution_count": 15,
     "metadata": {},
     "output_type": "execute_result"
    }
   ],
   "source": [
    "surf_bot_n[\"distances\"] = np.empty(surf_bot.n_points)\n",
    "for i in range(surf_bot_n.n_points):\n",
    "    p = surf_bot_n.points[i]\n",
    "    vec = surf_bot_n[\"Normals\"][i] * surf_bot_n.length\n",
    "    p0 = p - vec\n",
    "    p1 = p + vec\n",
    "    ip, ic = surf_top.ray_trace(p0, p1, first_point=True)\n",
    "    dist = np.sqrt(np.sum((ip - p)**2))\n",
    "    surf_bot_n[\"distances\"][i] = dist\n",
    "\n",
    "# Replace zeros with nans\n",
    "mask = surf_bot_n[\"distances\"] == 0\n",
    "surf_bot_n[\"distances\"][mask] = np.nan\n",
    "np.nanmean(surf_bot_n[\"distances\"])\n"
   ]
  },
  {
   "cell_type": "code",
   "execution_count": 17,
   "metadata": {},
   "outputs": [
    {
     "data": {
      "application/vnd.jupyter.widget-view+json": {
       "model_id": "2044ada64d304f91ab0c7c9a6a1622cf",
       "version_major": 2,
       "version_minor": 0
      },
      "text/plain": [
       "Viewer(geometries=[{'vtkClass': 'vtkPolyData', 'points': {'vtkClass': 'vtkPoints', 'name': '_points', 'numberO…"
      ]
     },
     "metadata": {},
     "output_type": "display_data"
    },
    {
     "data": {
      "application/vnd.jupyter.widget-view+json": {
       "model_id": "2044ada64d304f91ab0c7c9a6a1622cf",
       "version_major": 2,
       "version_minor": 0
      },
      "text/plain": [
       "Viewer(geometries=[{'vtkClass': 'vtkPolyData', 'points': {'vtkClass': 'vtkPoints', 'name': '_points', 'numberO…"
      ]
     },
     "metadata": {},
     "output_type": "display_data"
    }
   ],
   "source": [
    "p2 = pv.PlotterITK()\n",
    "p2.add_mesh(surf_bot_n, scalars=\"distances\", smooth_shading=True)\n",
    "p2.add_mesh(surf_top, opacity=0.75, smooth_shading=True)\n",
    "p2.show()"
   ]
  },
  {
   "cell_type": "code",
   "execution_count": null,
   "metadata": {},
   "outputs": [],
   "source": []
  }
 ],
 "metadata": {
  "kernelspec": {
   "display_name": "Python 3",
   "language": "python",
   "name": "python3"
  },
  "language_info": {
   "codemirror_mode": {
    "name": "ipython",
    "version": 3
   },
   "file_extension": ".py",
   "mimetype": "text/x-python",
   "name": "python",
   "nbconvert_exporter": "python",
   "pygments_lexer": "ipython3",
   "version": "3.7.9"
  }
 },
 "nbformat": 4,
 "nbformat_minor": 4
}
