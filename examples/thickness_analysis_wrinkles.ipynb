{
 "cells": [
  {
   "cell_type": "code",
   "execution_count": 1,
   "metadata": {},
   "outputs": [],
   "source": [
    "%gui qt"
   ]
  },
  {
   "cell_type": "markdown",
   "metadata": {},
   "source": [
    "This notebook is an example of how to analyze the thickness of a layer of tissue."
   ]
  },
  {
   "cell_type": "markdown",
   "metadata": {},
   "source": [
    "## Generate mock data\n",
    "First, we generate a set of mock data simulating a slab of tissue with three layers."
   ]
  },
  {
   "cell_type": "code",
   "execution_count": 2,
   "metadata": {},
   "outputs": [],
   "source": [
    "import numpy as np\n",
    "from skimage import draw\n",
    "\n"
   ]
  },
  {
   "cell_type": "code",
   "execution_count": 3,
   "metadata": {},
   "outputs": [],
   "source": [
    "tissue_x = 450\n",
    "tissue_y = 450\n",
    "tissue_z = 150\n",
    "\n",
    "indent_diameter = 50\n",
    "\n",
    "\n",
    "\n",
    "\n",
    "classified_tissue = 4 * np.ones((tissue_z, tissue_x, tissue_y))\n",
    "\n",
    "# make the stroma\n",
    "classified_tissue[50:125, :, :] = 2\n",
    "\n",
    "# make the muscle\n",
    "classified_tissue[125:, :, :] = 3\n",
    "\n",
    "# make the epithelial layer\n",
    "classified_tissue[25:50, :, :] = 1\n",
    "\n",
    "sphere = draw.ellipsoid(indent_diameter, indent_diameter, indent_diameter)\n",
    "half_sphere = sphere[52:102, :, :]\n",
    "\n",
    "half_sphere_in_cube = 2 * np.ones(half_sphere.shape)\n",
    "half_sphere_in_cube[half_sphere] = 1\n",
    "\n",
    "edge_border_x = int((tissue_x - (2 * half_sphere.shape[1])) / 2)\n",
    "mid_border_x = edge_border_x + half_sphere.shape[1]\n",
    "end_border_x = mid_border_x + half_sphere.shape[1]\n",
    "edge_border_y = int((tissue_y - (2 * half_sphere.shape[2])) / 2)\n",
    "mid_border_y = edge_border_y + half_sphere.shape[2]\n",
    "end_border_y = mid_border_y + half_sphere.shape[2]\n",
    "\n",
    "classified_tissue[50:100, edge_border_x:mid_border_x, edge_border_y:mid_border_y] = half_sphere_in_cube\n",
    "classified_tissue[50:100, mid_border_x:end_border_x, edge_border_y:mid_border_y] = half_sphere_in_cube\n",
    "classified_tissue[50:100, edge_border_x:mid_border_x, mid_border_y:end_border_y] = half_sphere_in_cube\n",
    "classified_tissue[50:100, mid_border_x:end_border_x, mid_border_y:end_border_y] = half_sphere_in_cube"
   ]
  },
  {
   "cell_type": "code",
   "execution_count": 4,
   "metadata": {},
   "outputs": [],
   "source": [
    "%gui qt\n",
    "import napari"
   ]
  },
  {
   "cell_type": "code",
   "execution_count": 5,
   "metadata": {},
   "outputs": [],
   "source": [
    "colors = {\n",
    "    0: [0, 0, 0, 0],\n",
    "    1: [0.5, 0.79, 0.5, 1],\n",
    "    2: [0.75, 0.68, 0.83, 1],\n",
    "    3: [0.99, 0.75, 0.52, 1],\n",
    "    4: [0, 0, 0, 1]\n",
    "}\n",
    "viewer = napari.view_labels(classified_tissue, color=colors, opacity=0.4)"
   ]
  },
  {
   "cell_type": "code",
   "execution_count": 6,
   "metadata": {},
   "outputs": [],
   "source": [
    "from morphologyanalysis.volume.label import label_boundaries\n",
    "edge_labels = label_boundaries(classified_tissue)\n",
    "\n",
    "# add the edge label image to the napari viewer\n",
    "viewer.add_labels(edge_labels, color=colors);"
   ]
  },
  {
   "cell_type": "markdown",
   "metadata": {},
   "source": []
  },
  {
   "cell_type": "code",
   "execution_count": 8,
   "metadata": {},
   "outputs": [],
   "source": [
    "from morphologyanalysis.surface.mesh import mesh_from_interface\n",
    "\n",
    "surf_bot = mesh_from_interface(label_im=edge_labels, parent_label=1, neighbor_label=4)\n",
    "surf_top = mesh_from_interface(label_im=edge_labels, parent_label=2, neighbor_label=1)"
   ]
  },
  {
   "cell_type": "code",
   "execution_count": 10,
   "metadata": {},
   "outputs": [
    {
     "data": {
      "text/plain": [
       "<Labels layer 'interface_im [1]' at 0x7fac1f34ef50>"
      ]
     },
     "execution_count": 10,
     "metadata": {},
     "output_type": "execute_result"
    }
   ],
   "source": [
    "from morphologyanalysis.surface.utils import find_interface\n",
    "\n",
    "bot_interface = find_interface(label_im=edge_labels, parent_label=1, neighbor_label=2)\n",
    "\n",
    "interface_im = np.zeros((150, 450, 450))\n",
    "interface_im[bot_interface[:, 0], bot_interface[:,1], bot_interface[:, 2]] = 1\n",
    "\n",
    "viewer.add_labels(interface_im)"
   ]
  },
  {
   "cell_type": "code",
   "execution_count": 11,
   "metadata": {},
   "outputs": [],
   "source": [
    "from skimage.measure import marching_cubes\n",
    "\n",
    "# use the mask to help the meshing\n",
    "verts, faces, normals, values = marching_cubes(interface_im, mask=interface_im.astype(np.bool))"
   ]
  },
  {
   "cell_type": "code",
   "execution_count": 15,
   "metadata": {},
   "outputs": [
    {
     "data": {
      "text/plain": [
       "<Surface layer 'Surface' at 0x7fabfdfbfb50>"
      ]
     },
     "execution_count": 15,
     "metadata": {},
     "output_type": "execute_result"
    }
   ],
   "source": [
    "viewer.add_surface((verts, faces, values))"
   ]
  },
  {
   "cell_type": "code",
   "execution_count": 15,
   "metadata": {},
   "outputs": [
    {
     "data": {
      "text/plain": [
       "14.51"
      ]
     },
     "execution_count": 15,
     "metadata": {},
     "output_type": "execute_result"
    }
   ],
   "source": [
    "surf_bot_n[\"distances\"] = np.empty(surf_bot.n_points)\n",
    "for i in range(surf_bot_n.n_points):\n",
    "    p = surf_bot_n.points[i]\n",
    "    vec = surf_bot_n[\"Normals\"][i] * surf_bot_n.length\n",
    "    p0 = p - vec\n",
    "    p1 = p + vec\n",
    "    ip, ic = surf_top.ray_trace(p0, p1, first_point=True)\n",
    "    dist = np.sqrt(np.sum((ip - p)**2))\n",
    "    surf_bot_n[\"distances\"][i] = dist\n"
   ]
  },
  {
   "cell_type": "code",
   "execution_count": 17,
   "metadata": {},
   "outputs": [
    {
     "data": {
      "application/vnd.jupyter.widget-view+json": {
       "model_id": "2044ada64d304f91ab0c7c9a6a1622cf",
       "version_major": 2,
       "version_minor": 0
      },
      "text/plain": [
       "Viewer(geometries=[{'vtkClass': 'vtkPolyData', 'points': {'vtkClass': 'vtkPoints', 'name': '_points', 'numberO…"
      ]
     },
     "metadata": {},
     "output_type": "display_data"
    },
    {
     "data": {
      "application/vnd.jupyter.widget-view+json": {
       "model_id": "2044ada64d304f91ab0c7c9a6a1622cf",
       "version_major": 2,
       "version_minor": 0
      },
      "text/plain": [
       "Viewer(geometries=[{'vtkClass': 'vtkPolyData', 'points': {'vtkClass': 'vtkPoints', 'name': '_points', 'numberO…"
      ]
     },
     "metadata": {},
     "output_type": "display_data"
    }
   ],
   "source": [
    "p2 = pv.PlotterITK()\n",
    "p2.add_mesh(surf_bot_n, scalars=\"distances\", smooth_shading=True)\n",
    "p2.add_mesh(surf_top, opacity=0.75, smooth_shading=True)\n",
    "p2.show()"
   ]
  },
  {
   "cell_type": "code",
   "execution_count": null,
   "metadata": {},
   "outputs": [],
   "source": []
  }
 ],
 "metadata": {
  "kernelspec": {
   "display_name": "Python 3",
   "language": "python",
   "name": "python3"
  },
  "language_info": {
   "codemirror_mode": {
    "name": "ipython",
    "version": 3
   },
   "file_extension": ".py",
   "mimetype": "text/x-python",
   "name": "python",
   "nbconvert_exporter": "python",
   "pygments_lexer": "ipython3",
   "version": "3.7.9"
  }
 },
 "nbformat": 4,
 "nbformat_minor": 4
}
